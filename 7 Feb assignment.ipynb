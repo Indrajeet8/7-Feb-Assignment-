{
 "cells": [
  {
   "cell_type": "markdown",
   "id": "3d9c35f0-3c05-4c2a-a4e9-6601a7488500",
   "metadata": {},
   "source": [
    "# Task - 2"
   ]
  },
  {
   "cell_type": "markdown",
   "id": "1db01f83-5a77-4be1-b84c-a268ab3f9498",
   "metadata": {},
   "source": [
    "## Assignment Questions"
   ]
  },
  {
   "cell_type": "code",
   "execution_count": null,
   "id": "ec9ef6c2-a779-462c-a68e-e12e00ccbf46",
   "metadata": {},
   "outputs": [],
   "source": []
  },
  {
   "cell_type": "raw",
   "id": "ff2c9ba7-03e7-44b9-bd45-63d7f78e78cf",
   "metadata": {},
   "source": [
    "Q1. You are writing code for a company. The requirement of the company is that you create a python\n",
    "function that will check whether the password entered by the user is correct or not. The function should\n",
    "take the password as input and return the string “Valid Password” if the entered password follows the\n",
    "below-given password guidelines else it should return “Invalid Password”."
   ]
  },
  {
   "cell_type": "code",
   "execution_count": 1,
   "id": "cd2f6fd3-cbff-49c5-bd70-c973068d65d5",
   "metadata": {},
   "outputs": [
    {
     "name": "stdout",
     "output_type": "stream",
     "text": [
      "Valid Password\n",
      "Invalid Password: Password should be at least 8 characters long.\n",
      "Invalid Password: Password should contain at least one uppercase letter.\n",
      "Invalid Password: Password should contain at least one special character.\n"
     ]
    }
   ],
   "source": [
    "import re\n",
    "\n",
    "def is_valid_password(password):\n",
    "   \n",
    "    if len(password) < 8:\n",
    "        return \"Invalid Password: Password should be at least 8 characters long.\"\n",
    "\n",
    "   \n",
    "    if not any(char.isupper() for char in password):\n",
    "        return \"Invalid Password: Password should contain at least one uppercase letter.\"\n",
    "\n",
    "  \n",
    "    if not any(char.islower() for char in password):\n",
    "        return \"Invalid Password: Password should contain at least one lowercase letter.\"\n",
    "\n",
    "   \n",
    "    if not any(char.isdigit() for char in password):\n",
    "        return \"Invalid Password: Password should contain at least one digit.\"\n",
    "\n",
    "   \n",
    "    if not re.search(r\"[!@#$%^&*(),.?\\\":{}|<>]\", password):\n",
    "        return \"Invalid Password: Password should contain at least one special character.\"\n",
    "\n",
    "    return \"Valid Password\"\n",
    "\n",
    "password1 = \"Passw0rd$\"\n",
    "password2 = \"abcdefg\"\n",
    "password3 = \"12345678\"\n",
    "password4 = \"HelloWorld123\"\n",
    "\n",
    "print(is_valid_password(password1))\n",
    "print(is_valid_password(password2))\n",
    "print(is_valid_password(password3))\n",
    "print(is_valid_password(password4))\n"
   ]
  },
  {
   "cell_type": "code",
   "execution_count": null,
   "id": "1020e4d5-45d8-43f9-8e09-707b14a96a8c",
   "metadata": {},
   "outputs": [],
   "source": []
  },
  {
   "cell_type": "code",
   "execution_count": null,
   "id": "95cda7b0-164c-497c-a583-170ee839b56f",
   "metadata": {},
   "outputs": [],
   "source": []
  },
  {
   "cell_type": "raw",
   "id": "ee1243a1-6587-4040-9bd6-820ceeae626c",
   "metadata": {},
   "source": [
    "Q2. Solve the below-given questions using at least one of the following:\n",
    "1. Lambda functioJ\n",
    "2. Filter functioJ\n",
    "3. Zap functioJ\n",
    "4. List ComprehensioI\n",
    "B Check if the string starts with a particular letterY\n",
    "B Check if the string is numericY\n",
    "B Sort a list of tuples having fruit names and their quantity. [(\"mango\",99),(\"orange\",80), (\"grapes\", 1000)-\n",
    "B Find the squares of numbers from 1 to 10Y\n",
    "B Find the cube root of numbers from 1 to 10Y\n",
    "B Check if a given number is evenY\n",
    "B Filter odd numbers from the given list.\n",
    "[1,2,3,4,5,6,7,8,9,10-\n",
    "B Sort a list of integers into positive and negative integers lists.\n",
    "[1,2,3,4,5,6,-1,-2,-3,-4,-5,0]"
   ]
  },
  {
   "cell_type": "markdown",
   "id": "c4ada3dd-cd13-45aa-9ce3-99f619cd24c9",
   "metadata": {},
   "source": [
    "# Check if the string starts with a particular letter:"
   ]
  },
  {
   "cell_type": "markdown",
   "id": "65556793-f762-4185-a76c-1bac4acaac38",
   "metadata": {},
   "source": [
    "##  Using lambda and map\n"
   ]
  },
  {
   "cell_type": "code",
   "execution_count": 2,
   "id": "33410dc2-4e9c-4198-8505-44a88a100988",
   "metadata": {},
   "outputs": [
    {
     "name": "stdout",
     "output_type": "stream",
     "text": [
      "[True, False, False, False]\n"
     ]
    }
   ],
   "source": [
    "strings = [\"apple\", \"banana\", \"cherry\", \"date\"]\n",
    "starts_with = \"a\"\n",
    "\n",
    "result = list(map(lambda s: s.startswith(starts_with), strings))\n",
    "print(result)\n"
   ]
  },
  {
   "cell_type": "code",
   "execution_count": null,
   "id": "4ef6468a-e535-4362-9e75-570c644cb746",
   "metadata": {},
   "outputs": [],
   "source": []
  },
  {
   "cell_type": "markdown",
   "id": "05872575-5329-4f17-b0fc-517fdf0d7442",
   "metadata": {},
   "source": [
    "## Check if the string is numeric:\n",
    "Using lambda and map:"
   ]
  },
  {
   "cell_type": "code",
   "execution_count": 3,
   "id": "0a2ab4c0-6b55-4e05-a823-b281b5128c3c",
   "metadata": {},
   "outputs": [
    {
     "name": "stdout",
     "output_type": "stream",
     "text": [
      "[True, False, True, False]\n"
     ]
    }
   ],
   "source": [
    "strings = [\"123\", \"apple\", \"456\", \"banana\"]\n",
    "result = list(map(lambda s: s.isnumeric(), strings))\n",
    "print(result)\n"
   ]
  },
  {
   "cell_type": "code",
   "execution_count": null,
   "id": "34a6483f-3c07-40d4-ba7f-b36fa6686643",
   "metadata": {},
   "outputs": [],
   "source": []
  },
  {
   "cell_type": "code",
   "execution_count": null,
   "id": "1682c88f-cf12-45a0-8dfc-541647917d47",
   "metadata": {},
   "outputs": [],
   "source": []
  },
  {
   "cell_type": "markdown",
   "id": "d33a31a8-0a52-4e25-b1c5-39537f7f1ee3",
   "metadata": {},
   "source": [
    "## Sort a list of tuples with fruit names and quantities:\n",
    "Using lambda and sorted:"
   ]
  },
  {
   "cell_type": "code",
   "execution_count": 4,
   "id": "31583736-d82c-47f4-b24b-e10a70ac4328",
   "metadata": {},
   "outputs": [
    {
     "name": "stdout",
     "output_type": "stream",
     "text": [
      "[('orange', 80), ('mango', 99), ('grapes', 1000)]\n"
     ]
    }
   ],
   "source": [
    "fruits = [(\"mango\", 99), (\"orange\", 80), (\"grapes\", 1000)]\n",
    "sorted_fruits = sorted(fruits, key=lambda x: x[1])\n",
    "print(sorted_fruits)\n"
   ]
  },
  {
   "cell_type": "code",
   "execution_count": null,
   "id": "cf916032-398c-40ba-8eae-e6f0c9cb8938",
   "metadata": {},
   "outputs": [],
   "source": []
  }
 ],
 "metadata": {
  "kernelspec": {
   "display_name": "Python 3 (ipykernel)",
   "language": "python",
   "name": "python3"
  },
  "language_info": {
   "codemirror_mode": {
    "name": "ipython",
    "version": 3
   },
   "file_extension": ".py",
   "mimetype": "text/x-python",
   "name": "python",
   "nbconvert_exporter": "python",
   "pygments_lexer": "ipython3",
   "version": "3.10.8"
  }
 },
 "nbformat": 4,
 "nbformat_minor": 5
}
